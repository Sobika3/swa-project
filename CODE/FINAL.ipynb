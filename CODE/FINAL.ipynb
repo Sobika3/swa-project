{
 "cells": [
  {
   "cell_type": "code",
   "execution_count": 4,
   "id": "6a8fec4b",
   "metadata": {},
   "outputs": [],
   "source": [
    "import cv2\n",
    "import numpy as np\n",
    "import os\n",
    "import pyttsx3\n",
    "from datetime import  datetime\n",
    "import csv\n",
    "import face_recognition\n",
    "import serial"
   ]
  },
  {
   "cell_type": "code",
   "execution_count": 2,
   "id": "95abf682",
   "metadata": {
    "scrolled": true
   },
   "outputs": [
    {
     "ename": "SerialException",
     "evalue": "could not open port 'COM3': FileNotFoundError(2, 'The system cannot find the file specified.', None, 2)",
     "output_type": "error",
     "traceback": [
      "\u001b[1;31m---------------------------------------------------------------------------\u001b[0m",
      "\u001b[1;31mSerialException\u001b[0m                           Traceback (most recent call last)",
      "Cell \u001b[1;32mIn[2], line 1\u001b[0m\n\u001b[1;32m----> 1\u001b[0m ser \u001b[38;5;241m=\u001b[39m \u001b[43mserial\u001b[49m\u001b[38;5;241;43m.\u001b[39;49m\u001b[43mSerial\u001b[49m\u001b[43m(\u001b[49m\u001b[38;5;124;43m'\u001b[39;49m\u001b[38;5;124;43mCOM3\u001b[39;49m\u001b[38;5;124;43m'\u001b[39;49m\u001b[43m,\u001b[49m\u001b[43m \u001b[49m\u001b[38;5;241;43m9600\u001b[39;49m\u001b[43m)\u001b[49m\n",
      "File \u001b[1;32m~\\AppData\\Roaming\\Python\\Python39\\site-packages\\serial\\serialwin32.py:33\u001b[0m, in \u001b[0;36mSerial.__init__\u001b[1;34m(self, *args, **kwargs)\u001b[0m\n\u001b[0;32m     31\u001b[0m \u001b[38;5;28mself\u001b[39m\u001b[38;5;241m.\u001b[39m_overlapped_read \u001b[38;5;241m=\u001b[39m \u001b[38;5;28;01mNone\u001b[39;00m\n\u001b[0;32m     32\u001b[0m \u001b[38;5;28mself\u001b[39m\u001b[38;5;241m.\u001b[39m_overlapped_write \u001b[38;5;241m=\u001b[39m \u001b[38;5;28;01mNone\u001b[39;00m\n\u001b[1;32m---> 33\u001b[0m \u001b[38;5;28msuper\u001b[39m(Serial, \u001b[38;5;28mself\u001b[39m)\u001b[38;5;241m.\u001b[39m\u001b[38;5;21m__init__\u001b[39m(\u001b[38;5;241m*\u001b[39margs, \u001b[38;5;241m*\u001b[39m\u001b[38;5;241m*\u001b[39mkwargs)\n",
      "File \u001b[1;32m~\\AppData\\Roaming\\Python\\Python39\\site-packages\\serial\\serialutil.py:244\u001b[0m, in \u001b[0;36mSerialBase.__init__\u001b[1;34m(self, port, baudrate, bytesize, parity, stopbits, timeout, xonxoff, rtscts, write_timeout, dsrdtr, inter_byte_timeout, exclusive, **kwargs)\u001b[0m\n\u001b[0;32m    241\u001b[0m     \u001b[38;5;28;01mraise\u001b[39;00m \u001b[38;5;167;01mValueError\u001b[39;00m(\u001b[38;5;124m'\u001b[39m\u001b[38;5;124munexpected keyword arguments: \u001b[39m\u001b[38;5;132;01m{!r}\u001b[39;00m\u001b[38;5;124m'\u001b[39m\u001b[38;5;241m.\u001b[39mformat(kwargs))\n\u001b[0;32m    243\u001b[0m \u001b[38;5;28;01mif\u001b[39;00m port \u001b[38;5;129;01mis\u001b[39;00m \u001b[38;5;129;01mnot\u001b[39;00m \u001b[38;5;28;01mNone\u001b[39;00m:\n\u001b[1;32m--> 244\u001b[0m     \u001b[38;5;28;43mself\u001b[39;49m\u001b[38;5;241;43m.\u001b[39;49m\u001b[43mopen\u001b[49m\u001b[43m(\u001b[49m\u001b[43m)\u001b[49m\n",
      "File \u001b[1;32m~\\AppData\\Roaming\\Python\\Python39\\site-packages\\serial\\serialwin32.py:64\u001b[0m, in \u001b[0;36mSerial.open\u001b[1;34m(self)\u001b[0m\n\u001b[0;32m     62\u001b[0m \u001b[38;5;28;01mif\u001b[39;00m \u001b[38;5;28mself\u001b[39m\u001b[38;5;241m.\u001b[39m_port_handle \u001b[38;5;241m==\u001b[39m win32\u001b[38;5;241m.\u001b[39mINVALID_HANDLE_VALUE:\n\u001b[0;32m     63\u001b[0m     \u001b[38;5;28mself\u001b[39m\u001b[38;5;241m.\u001b[39m_port_handle \u001b[38;5;241m=\u001b[39m \u001b[38;5;28;01mNone\u001b[39;00m    \u001b[38;5;66;03m# 'cause __del__ is called anyway\u001b[39;00m\n\u001b[1;32m---> 64\u001b[0m     \u001b[38;5;28;01mraise\u001b[39;00m SerialException(\u001b[38;5;124m\"\u001b[39m\u001b[38;5;124mcould not open port \u001b[39m\u001b[38;5;132;01m{!r}\u001b[39;00m\u001b[38;5;124m: \u001b[39m\u001b[38;5;132;01m{!r}\u001b[39;00m\u001b[38;5;124m\"\u001b[39m\u001b[38;5;241m.\u001b[39mformat(\u001b[38;5;28mself\u001b[39m\u001b[38;5;241m.\u001b[39mportstr, ctypes\u001b[38;5;241m.\u001b[39mWinError()))\n\u001b[0;32m     66\u001b[0m \u001b[38;5;28;01mtry\u001b[39;00m:\n\u001b[0;32m     67\u001b[0m     \u001b[38;5;28mself\u001b[39m\u001b[38;5;241m.\u001b[39m_overlapped_read \u001b[38;5;241m=\u001b[39m win32\u001b[38;5;241m.\u001b[39mOVERLAPPED()\n",
      "\u001b[1;31mSerialException\u001b[0m: could not open port 'COM3': FileNotFoundError(2, 'The system cannot find the file specified.', None, 2)"
     ]
    }
   ],
   "source": [
    "ser = serial.Serial('COM3', 9600)"
   ]
  },
  {
   "cell_type": "code",
   "execution_count": null,
   "id": "06944172",
   "metadata": {},
   "outputs": [],
   "source": [
    "engine = pyttsx3.init()"
   ]
  },
  {
   "cell_type": "code",
   "execution_count": null,
   "id": "38a272c6",
   "metadata": {},
   "outputs": [],
   "source": [
    "cap = cv2.VideoCapture(0)"
   ]
  },
  {
   "cell_type": "code",
   "execution_count": null,
   "id": "fdacdd42",
   "metadata": {},
   "outputs": [],
   "source": [
    "path = 'data'\n",
    "stdImg = []\n",
    "stdName = []\n",
    "myList = os.listdir(path)"
   ]
  },
  {
   "cell_type": "code",
   "execution_count": null,
   "id": "2e1dc29d",
   "metadata": {},
   "outputs": [],
   "source": [
    "for cl in myList:\n",
    "    curimg = cv2.imread(f'{path}/{cl}')\n",
    "    stdImg.append(curimg)\n",
    "    stdName.append(os.path.splitext(cl)[0])"
   ]
  },
  {
   "cell_type": "code",
   "execution_count": null,
   "id": "f157a938",
   "metadata": {},
   "outputs": [],
   "source": [
    "studentName = [name.upper() for name in stdName]"
   ]
  },
  {
   "cell_type": "code",
   "execution_count": null,
   "id": "3c543d8c",
   "metadata": {},
   "outputs": [],
   "source": [
    "print('Student Names in the List is :',studentName)"
   ]
  },
  {
   "cell_type": "code",
   "execution_count": null,
   "id": "92267117",
   "metadata": {},
   "outputs": [],
   "source": [
    "s1 = 0\n",
    "s2 = 0\n",
    "s3 = 0\n",
    "s4 = 0\n",
    "s5 = 0"
   ]
  },
  {
   "cell_type": "code",
   "execution_count": null,
   "id": "bc69ce51",
   "metadata": {},
   "outputs": [],
   "source": [
    "stdname_copy = studentName.copy()"
   ]
  },
  {
   "cell_type": "code",
   "execution_count": null,
   "id": "267e621e",
   "metadata": {},
   "outputs": [],
   "source": [
    "def resize(img, size) :\n",
    "    width = int(img.shape[1]*size)\n",
    "    height = int(img.shape[0] * size)\n",
    "    dimension = (width, height)\n",
    "    return cv2.resize(img, dimension, interpolation= cv2.INTER_AREA)"
   ]
  },
  {
   "cell_type": "code",
   "execution_count": null,
   "id": "c9e52e94",
   "metadata": {},
   "outputs": [],
   "source": [
    "def findEncoding(images) :\n",
    "    imgEncodings = []\n",
    "    for img in images :\n",
    "        img = resize(img, 0.50)\n",
    "        img = cv2.cvtColor(img, cv2.COLOR_BGR2RGB)\n",
    "        encodeimg = face_recognition.face_encodings(img)[0]\n",
    "        imgEncodings.append(encodeimg)\n",
    "    return imgEncodings"
   ]
  },
  {
   "cell_type": "code",
   "execution_count": null,
   "id": "bb33e2a9",
   "metadata": {},
   "outputs": [],
   "source": [
    "EncodeList = findEncoding(stdImg)"
   ]
  },
  {
   "cell_type": "code",
   "execution_count": null,
   "id": "fc540075",
   "metadata": {},
   "outputs": [],
   "source": [
    "now = datetime.now()\n",
    "day = now.strftime('%d-%m-%Y')\n",
    "attenance = 'Registered'\n",
    "f = open(day+'.csv','w+',newline='')\n",
    "write = csv.writer(f)\n",
    "write.writerow(['S.No','Name','Time', 'voting status'])"
   ]
  },
  {
   "cell_type": "code",
   "execution_count": null,
   "id": "7e5551d7",
   "metadata": {},
   "outputs": [],
   "source": [
    "attendance_List = []\n",
    "ids = 1"
   ]
  },
  {
   "cell_type": "code",
   "execution_count": 3,
   "id": "c4ab5e74",
   "metadata": {},
   "outputs": [
    {
     "ename": "NameError",
     "evalue": "name 'cap' is not defined",
     "output_type": "error",
     "traceback": [
      "\u001b[1;31m---------------------------------------------------------------------------\u001b[0m",
      "\u001b[1;31mNameError\u001b[0m                                 Traceback (most recent call last)",
      "Cell \u001b[1;32mIn[3], line 2\u001b[0m\n\u001b[0;32m      1\u001b[0m \u001b[38;5;28;01mwhile\u001b[39;00m \u001b[38;5;28;01mTrue\u001b[39;00m :\n\u001b[1;32m----> 2\u001b[0m     success, frame \u001b[38;5;241m=\u001b[39m \u001b[43mcap\u001b[49m\u001b[38;5;241m.\u001b[39mread()\n\u001b[0;32m      3\u001b[0m     Smaller_frames \u001b[38;5;241m=\u001b[39m cv2\u001b[38;5;241m.\u001b[39mresize(frame, (\u001b[38;5;241m0\u001b[39m,\u001b[38;5;241m0\u001b[39m), \u001b[38;5;28;01mNone\u001b[39;00m, \u001b[38;5;241m0.25\u001b[39m, \u001b[38;5;241m0.25\u001b[39m)\n\u001b[0;32m      5\u001b[0m     facesInFrame \u001b[38;5;241m=\u001b[39m face_recognition\u001b[38;5;241m.\u001b[39mface_locations(Smaller_frames)\n",
      "\u001b[1;31mNameError\u001b[0m: name 'cap' is not defined"
     ]
    }
   ],
   "source": [
    "while True :\n",
    "    success, frame = cap.read()\n",
    "    Smaller_frames = cv2.resize(frame, (0,0), None, 0.25, 0.25)\n",
    "\n",
    "    facesInFrame = face_recognition.face_locations(Smaller_frames)\n",
    "    encodeFacesInFrame = face_recognition.face_encodings(Smaller_frames, facesInFrame)\n",
    "\n",
    "    for encodeFace, faceloc in zip(encodeFacesInFrame, facesInFrame) :\n",
    "        matches = face_recognition.compare_faces(EncodeList, encodeFace)\n",
    "        facedis = face_recognition.face_distance(EncodeList, encodeFace)\n",
    "        matchIndex = np.argmin(facedis)\n",
    "\n",
    "        if matches[matchIndex] :\n",
    "            name = studentName[matchIndex].upper()\n",
    "            y1, x2, y2, x1 = faceloc\n",
    "            y1, x2, y2, x1 = y1*4, x2*4, y2*4, x1*4\n",
    "            cv2.rectangle(frame, (x1, y1), (x2, y2), (0, 255, 0), 3)\n",
    "            cv2.rectangle(frame, (x1, y2-25), (x2, y2), (0, 255, 0), cv2.FILLED)\n",
    "            cv2.putText(frame, name, (x1+6, y2-6), cv2.FONT_HERSHEY_COMPLEX, 1, (255, 255, 255), 2)\n",
    "\n",
    "            if name == 'AJITHA':            \n",
    "                s1 += 1\n",
    "                if s1 >= 20:\n",
    "                    a = b'A'\n",
    "                    print(a)\n",
    "                    ser.open()\n",
    "                    ser.write(a)\n",
    "                    ser.close()\n",
    "                    print('AJITHA is detected')\n",
    "                    attendance_List.append(name)\n",
    "                    #print(\"nameList\",nameList)\n",
    "                    if name in studentName:\n",
    "                            if name in stdname_copy:\n",
    "                                stdname_copy.remove(name)\n",
    "                                #print(name)\n",
    "                                time = now.strftime(\"%H:%M:%S\")\n",
    "                                write.writerow([ids,name,time, attenance])\n",
    "                                statement = str(name + 'voted')\n",
    "                                \n",
    "                                #engine.say(statment)\n",
    "                                #engine.runAndWait()\n",
    "                                ids += 1\n",
    "                    s1 = 0\n",
    "                    s2 = 0\n",
    "                    s3 = 0\n",
    "                    s4 = 0\n",
    "                    s5 = 0\n",
    "                    \n",
    "            if name == 'BAVEDRA':            \n",
    "                s2 += 1\n",
    "                if s2 >= 20:\n",
    "                    a = b'B'\n",
    "                    ser.open()\n",
    "                    ser.write(a)\n",
    "                    ser.close()\n",
    "                    print('BAVEDRA is detected')\n",
    "                    attendance_List.append(name)\n",
    "                    #print(\"nameList\",nameList)\n",
    "                    if name in studentName:\n",
    "                            if name in stdname_copy:\n",
    "                                stdname_copy.remove(name)\n",
    "                                #print(name)\n",
    "                                time = now.strftime(\"%H:%M:%S\")\n",
    "                                write.writerow([ids,name,time, attenance])\n",
    "                                statement = str(name + 'voted')\n",
    "                                \n",
    "                                #engine.say(statment)\n",
    "                                #engine.runAndWait()\n",
    "                                ids += 1\n",
    "                    s1 = 0\n",
    "                    s2 = 0\n",
    "                    s3 = 0\n",
    "                    s4 = 0\n",
    "                    s5 = 0\n",
    "                            \n",
    "            if name == 'SWATHI':\n",
    "                s3 += 1\n",
    "                if s3 >= 20:\n",
    "                    a = b'C'\n",
    "                    ser.open()\n",
    "                    ser.write(a)\n",
    "                    ser.close()\n",
    "                    print('SWATHI is detected')\n",
    "                    attendance_List.append(name)\n",
    "                    #print(\"nameList\",nameList)\n",
    "                    if name in studentName:\n",
    "                            if name in stdname_copy:\n",
    "                                stdname_copy.remove(name)\n",
    "                                #print(name)\n",
    "                                time = now.strftime(\"%H:%M:%S\")\n",
    "                                write.writerow([ids,name,time, attenance ])\n",
    "                                statement = str(name + 'voted')\n",
    "                                \n",
    "                                #engine.say(statment)\n",
    "                                #engine.runAndWait()\n",
    "                                ids += 1\n",
    "                    s1 = 0\n",
    "                    s2 = 0\n",
    "                    s3 = 0\n",
    "                    s4 = 0\n",
    "                    s5 = 0\n",
    "                    \n",
    "            # if name == 'RAM':            \n",
    "            #     s4 += 1\n",
    "            #     if s4 >= 20:\n",
    "            #         a = b'D'\n",
    "            #         #ser.open()\n",
    "            #         ser.write(a)\n",
    "            #         ser.close()\n",
    "            #         print('RAM is detected')\n",
    "            #         attendance_List.append(name)\n",
    "            #         #print(\"nameList\",nameList)\n",
    "            #         if name in studentName:\n",
    "            #                 if name in stdname_copy:\n",
    "            #                     stdname_copy.remove(name)\n",
    "            #                     #print(name)\n",
    "            #                     time = now.strftime(\"%H:%M:%S\")\n",
    "            #                     write.writerow([ids,name,time, attenance])\n",
    "            #                     statement = str(name + 'voted')\n",
    "                                \n",
    "            #                     #engine.say(statment)\n",
    "            #                     #engine.runAndWait()\n",
    "            #                     ids += 1\n",
    "            #         s1 = 0\n",
    "            #         s2 = 0\n",
    "            #         s3 = 0\n",
    "            #         s4 = 0\n",
    "            #         s5 = 0\n",
    "                    \n",
    "            # if name == 'SREE':            \n",
    "            #     s5 += 1\n",
    "            #     if s5 >= 20:\n",
    "            #         a = b'E'\n",
    "            #         print(type(a))\n",
    "                    \n",
    "            #         ser.write(a)\n",
    "            #         ser.close()\n",
    "            #         print('SREE is detected')\n",
    "            #         attendance_List.append(name)\n",
    "            #         #print(\"nameList\",nameList)\n",
    "            #         if name in studentName:\n",
    "            #                 if name in stdname_copy:\n",
    "            #                     stdname_copy.remove(name)\n",
    "            #                     #print(name)\n",
    "            #                     time = now.strftime(\"%H:%M:%S\")\n",
    "            #                     write.writerow([ids,name,time, attenance])\n",
    "            #                     statement = str(name + 'voted')\n",
    "                                \n",
    "            #                     #engine.say(statment)\n",
    "            #                     #engine.runAndWait()\n",
    "            #                     ids += 1\n",
    "            #         s1 = 0\n",
    "            #         s2 = 0\n",
    "            #         s3 = 0\n",
    "            #         s4 = 0\n",
    "            #         s5 = 0\n",
    "            \n",
    "            \n",
    "                        \n",
    "                    \n",
    "                                \n",
    "                    \n",
    "        else:\n",
    "            y1, x2, y2, x1 = faceloc\n",
    "            y1, x2, y2, x1 = y1*4, x2*4, y2*4, x1*4\n",
    "            cv2.rectangle(frame, (x1, y1), (x2, y2), (0, 0, 255), 3)\n",
    "            cv2.putText(frame, 'INTRUDER', (x1+6, y2-6), cv2.FONT_HERSHEY_COMPLEX, 1, (255, 255, 255), 2)\n",
    "            \n",
    "    cv2.imshow('Face Attendance System',frame)\n",
    "    k = cv2.waitKey(1)\n",
    "    if k == 27:\n",
    "        break\n",
    "    \n",
    "cap.release()\n",
    "cv2.destroyAllWindows()\n",
    "f.close()"
   ]
  },
  {
   "cell_type": "code",
   "execution_count": null,
   "id": "900fbc95",
   "metadata": {},
   "outputs": [],
   "source": []
  }
 ],
 "metadata": {
  "kernelspec": {
   "display_name": "Python 3 (ipykernel)",
   "language": "python",
   "name": "python3"
  },
  "language_info": {
   "codemirror_mode": {
    "name": "ipython",
    "version": 3
   },
   "file_extension": ".py",
   "mimetype": "text/x-python",
   "name": "python",
   "nbconvert_exporter": "python",
   "pygments_lexer": "ipython3",
   "version": "3.9.18"
  }
 },
 "nbformat": 4,
 "nbformat_minor": 5
}
